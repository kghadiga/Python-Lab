{
 "cells": [
  {
   "cell_type": "code",
   "execution_count": 1,
   "id": "e48ca7c8",
   "metadata": {},
   "outputs": [],
   "source": [
    "import ast"
   ]
  },
  {
   "cell_type": "code",
   "execution_count": 2,
   "id": "e800fbae",
   "metadata": {},
   "outputs": [],
   "source": [
    "#Let's define function to find two elements such that their sum is closest to zero.\n",
    "def find_closest_sum(n):\n",
    "    n.sort() \n",
    "    #Let's initialize the values\n",
    "    left = 0\n",
    "    right = len(n) - 1\n",
    "    closest_sum = float('inf') #initializes the closest_sum variable with a value representing positive infinity.\n",
    "    result = None\n",
    "    \n",
    "    while left < right:\n",
    "        cur_sum = n[left] + n[right] #calculated the sum of the elements at the current positions of the left & right pointers.\n",
    "        diff = abs(cur_sum) #The absolute difference of cur_sum is calculated and stored in the diff variable.\n",
    "        \n",
    "        if diff < closest_sum: # Checks if diff is smaller than the current closest_sum.\n",
    "            closest_sum = diff #If yes, we'veve found a pair with a closer sum to zero. So, closest_sum is updated with new diff. \n",
    "            result = (n[left], n[right]) # current pair (n[left], n[right]) is assigned to the result variable.\n",
    "        \n",
    "\n",
    "        if cur_sum < 0: # Checks whether cur_sum is negative. If yes, then sum of the current pair is smaller than zero.\n",
    "            left += 1 # move the left pointer to the right to increase the sum\n",
    "        else:\n",
    "            right -= 1 \n",
    "            # If cur_sum is not negative, then the sum of the current pair is greater than or equal to zero.\n",
    "            # Hence,  move the right pointer to the left to decrease the sum.\n",
    "    \n",
    "    return result"
   ]
  },
  {
   "cell_type": "code",
   "execution_count": 3,
   "id": "01739942",
   "metadata": {},
   "outputs": [
    {
     "name": "stdout",
     "output_type": "stream",
     "text": [
      "[-4, 7, 6, 2, -5]\n",
      "(-5, 6)\n"
     ]
    }
   ],
   "source": [
    "n= ast.literal_eval(input())\n",
    "print(find_closest_sum(n))"
   ]
  },
  {
   "cell_type": "code",
   "execution_count": 4,
   "id": "8f4cc1ee",
   "metadata": {},
   "outputs": [
    {
     "name": "stdout",
     "output_type": "stream",
     "text": [
      "(-5, 6)\n"
     ]
    }
   ],
   "source": [
    "print(find_closest_sum([-4, 7, 6, 2, -5]))"
   ]
  },
  {
   "cell_type": "code",
   "execution_count": 5,
   "id": "5173ee37",
   "metadata": {},
   "outputs": [
    {
     "name": "stdout",
     "output_type": "stream",
     "text": [
      "(-38, 34)\n"
     ]
    }
   ],
   "source": [
    "print(find_closest_sum([-50, 34, -19, 24, 33, 10, -46, -38]))"
   ]
  },
  {
   "cell_type": "code",
   "execution_count": null,
   "id": "6f78c05c",
   "metadata": {},
   "outputs": [],
   "source": []
  }
 ],
 "metadata": {
  "kernelspec": {
   "display_name": "Python 3 (ipykernel)",
   "language": "python",
   "name": "python3"
  },
  "language_info": {
   "codemirror_mode": {
    "name": "ipython",
    "version": 3
   },
   "file_extension": ".py",
   "mimetype": "text/x-python",
   "name": "python",
   "nbconvert_exporter": "python",
   "pygments_lexer": "ipython3",
   "version": "3.9.12"
  }
 },
 "nbformat": 4,
 "nbformat_minor": 5
}
